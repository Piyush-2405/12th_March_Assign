{
 "cells": [
  {
   "cell_type": "markdown",
   "id": "177ad60d-8d27-46c2-aa02-d12eb069bdce",
   "metadata": {},
   "source": [
    "Q1. Calculate the 95% confidence interval for a sample of data with a mean of 50 and a standard deviation\n",
    "of 5 using Python. Interpret the results."
   ]
  },
  {
   "cell_type": "code",
   "execution_count": null,
   "id": "99a9b5a5-f2a2-49bf-b05e-ae0b3f972a8f",
   "metadata": {},
   "outputs": [],
   "source": [
    "import scipy.stats as stats\n",
    "\n",
    "sample_mean = 50\n",
    "sample_stddev = 5\n",
    "confidence_level = 0.95\n",
    "sample_size = 100  # Replace this with your actual sample size\n",
    "\n",
    "# Calculate the standard error\n",
    "standard_error = sample_stddev / (sample_size ** 0.5)\n",
    "\n",
    "# Calculate the margin of error\n",
    "margin_of_error = stats.norm.ppf(1 - (1 - confidence_level) / 2) * standard_error\n",
    "\n",
    "# Calculate the lower and upper bounds of the confidence interval\n",
    "confidence_interval_lower = sample_mean - margin_of_error\n",
    "confidence_interval_upper = sample_mean + margin_of_error\n",
    "\n",
    "print(\"95% Confidence Interval:\")\n",
    "print(\"Lower bound:\", confidence_interval_lower)\n",
    "print(\"Upper bound:\", confidence_interval_upper)\n"
   ]
  },
  {
   "cell_type": "markdown",
   "id": "2ebf06b5-af22-49ff-9be6-0747fc93446e",
   "metadata": {},
   "source": [
    "Q2. Conduct a chi-square goodness of fit test to determine if the distribution of colors of M&Ms in a bag\n",
    "matches the expected distribution of 20% blue, 20% orange, 20% green, 10% yellow, 10% red, and 20%\n",
    "brown. Use Python to perform the test with a significance level of 0.05."
   ]
  },
  {
   "cell_type": "code",
   "execution_count": 7,
   "id": "7aa3f718-11ab-459b-942a-813de23c04ee",
   "metadata": {},
   "outputs": [
    {
     "name": "stdout",
     "output_type": "stream",
     "text": [
      "Chi-square statistic: 3.4622222222222216\n",
      "P-value: 0.6291114389512602\n",
      "Fail to reject the null hypothesis: The distribution of colors matches the expected distribution.\n"
     ]
    }
   ],
   "source": [
    "import numpy as np\n",
    "from scipy.stats import chisquare\n",
    "\n",
    "# Observed frequencies of colors in the bag\n",
    "observed_frequencies = np.array([.15, .22, .18,\n",
    "                                 .10, .9, .16])\n",
    "\n",
    "# Expected frequencies based on the provided distribution\n",
    "expected_frequencies = np.array([0.20, 0.20, 0.20, 0.10, 0.10, 0.20]) * np.sum(observed_frequencies)\n",
    "\n",
    "# Perform the chi-square goodness of fit test\n",
    "chi2_statistic, p_value = chisquare(observed_frequencies, f_exp=expected_frequencies)\n",
    "\n",
    "significance_level = 0.05\n",
    "\n",
    "print(\"Chi-square statistic:\", chi2_statistic)\n",
    "print(\"P-value:\", p_value)\n",
    "\n",
    "if p_value < significance_level:\n",
    "    print(\"Reject the null hypothesis: The distribution of colors does not match the expected distribution.\")\n",
    "else:\n",
    "    print(\"Fail to reject the null hypothesis: The distribution of colors matches the expected distribution.\")\n"
   ]
  },
  {
   "cell_type": "markdown",
   "id": "e7ff49b8-39fa-479b-8c02-7331906d60a7",
   "metadata": {},
   "source": [
    "Q3. Use Python to calculate the chi-square statistic and p-value for a contingency table with the following\n",
    "data:\n",
    "\n",
    "          Group A   Group B\n",
    "\n",
    "Outcome1    20        15\n",
    "Outcome2    10        25\n",
    "Outcome3    15        20\n",
    "\n",
    "Interpret the results of the test."
   ]
  },
  {
   "cell_type": "code",
   "execution_count": 8,
   "id": "31013b95-3f52-42ff-b127-2a9fbf070aca",
   "metadata": {},
   "outputs": [
    {
     "name": "stdout",
     "output_type": "stream",
     "text": [
      "Chi-square statistic: 5.833333333333334\n",
      "P-value: 0.05411376622282158\n"
     ]
    }
   ],
   "source": [
    "import numpy as np\n",
    "from scipy.stats import chi2_contingency\n",
    "\n",
    "# Create the contingency table\n",
    "observed_data = np.array([[20, 15], [10, 25], [15, 20]])\n",
    "\n",
    "# Calculate the chi-square statistic, p-value, degrees of freedom, and expected frequencies\n",
    "chi2_statistic, p_value, degrees_of_freedom, expected = chi2_contingency(observed_data)\n",
    "\n",
    "print(\"Chi-square statistic:\", chi2_statistic)\n",
    "print(\"P-value:\", p_value)\n"
   ]
  },
  {
   "cell_type": "markdown",
   "id": "8dd1e7ad-bead-4e62-a02a-a92dd67b073b",
   "metadata": {},
   "source": [
    "Q4. A study of the prevalence of smoking in a population of 500 individuals found that 60 individuals\n",
    "smoked. Use Python to calculate the 95% confidence interval for the true proportion of individuals in the\n",
    "population who smoke."
   ]
  },
  {
   "cell_type": "code",
   "execution_count": 9,
   "id": "cbcd08bd-71a3-46f0-927e-68365cd7858b",
   "metadata": {},
   "outputs": [
    {
     "name": "stdout",
     "output_type": "stream",
     "text": [
      "95% Confidence Interval for the Proportion of Smokers: (0.09437490012636912, 0.1514195986244106)\n"
     ]
    }
   ],
   "source": [
    "import statsmodels.api as sm\n",
    "\n",
    "total_population = 500\n",
    "smokers = 60\n",
    "\n",
    "# Calculate the proportion of smokers in the sample\n",
    "sample_proportion = smokers / total_population\n",
    "\n",
    "# Calculate the Wilson score interval\n",
    "confidence_level = 0.95\n",
    "confidence_interval = sm.stats.proportion_confint(smokers, total_population, alpha=1 - confidence_level, method=\"wilson\")\n",
    "\n",
    "print(\"95% Confidence Interval for the Proportion of Smokers:\", confidence_interval)\n"
   ]
  },
  {
   "cell_type": "markdown",
   "id": "7c72b1bd-0f1b-4b39-8760-ea1ba5cee27f",
   "metadata": {},
   "source": [
    "Q5. Calculate the 90% confidence interval for a sample of data with a mean of 75 and a standard deviation\n",
    "of 12 using Python. Interpret the results."
   ]
  },
  {
   "cell_type": "code",
   "execution_count": 10,
   "id": "6cec9916-7f29-4ce9-b7d6-7d985b742695",
   "metadata": {},
   "outputs": [
    {
     "name": "stdout",
     "output_type": "stream",
     "text": [
      "90% Confidence Interval:\n",
      "Lower bound: 73.02617564765823\n",
      "Upper bound: 76.97382435234177\n"
     ]
    }
   ],
   "source": [
    "import scipy.stats as stats\n",
    "\n",
    "sample_mean = 75\n",
    "sample_stddev = 12\n",
    "confidence_level = 0.90\n",
    "sample_size = 100  # Replace this with your actual sample size\n",
    "\n",
    "# Calculate the standard error\n",
    "standard_error = sample_stddev / (sample_size ** 0.5)\n",
    "\n",
    "# Calculate the margin of error\n",
    "margin_of_error = stats.norm.ppf(1 - (1 - confidence_level) / 2) * standard_error\n",
    "\n",
    "# Calculate the lower and upper bounds of the confidence interval\n",
    "confidence_interval_lower = sample_mean - margin_of_error\n",
    "confidence_interval_upper = sample_mean + margin_of_error\n",
    "\n",
    "print(\"90% Confidence Interval:\")\n",
    "print(\"Lower bound:\", confidence_interval_lower)\n",
    "print(\"Upper bound:\", confidence_interval_upper)\n"
   ]
  },
  {
   "cell_type": "markdown",
   "id": "1741dcf2-2427-4fb7-b72e-9005cfeef990",
   "metadata": {},
   "source": [
    "we are 90% confident that the true population mean lies within this interval. In other words, if we were to repeat this sampling process and calculate the confidence interval many times, we expect the true population mean to fall within this range in about 90% of cases."
   ]
  },
  {
   "cell_type": "markdown",
   "id": "ab1d162f-ca19-4c0e-8d53-9105cd33d1e3",
   "metadata": {},
   "source": [
    "Q6. Use Python to plot the chi-square distribution with 10 degrees of freedom. Label the axes and shade the\n",
    "area corresponding to a chi-square statistic of 15."
   ]
  },
  {
   "cell_type": "code",
   "execution_count": 11,
   "id": "2f3e1bcb-45be-4428-a97e-d2965f9196ea",
   "metadata": {},
   "outputs": [
    {
     "data": {
      "image/png": "[encoded data removed]",
      "text/plain": [
       "<Figure size 640x480 with 1 Axes>"
      ]
     },
     "metadata": {},
     "output_type": "display_data"
    }
   ],
   "source": [
    "import numpy as np\n",
    "import matplotlib.pyplot as plt\n",
    "import scipy.stats as stats\n",
    "\n",
    "# Degrees of freedom\n",
    "df = 10\n",
    "\n",
    "# Create a range of chi-square values\n",
    "x = np.linspace(0, 30, 1000)\n",
    "\n",
    "# Calculate the chi-square probability density function\n",
    "chi2_pdf = stats.chi2.pdf(x, df)\n",
    "\n",
    "# Plot the chi-square distribution\n",
    "plt.plot(x, chi2_pdf, label=f'Chi-square ({df} df)')\n",
    "\n",
    "# Shade the area corresponding to chi-square statistic of 15\n",
    "x_shaded = np.linspace(0, 15, 100)\n",
    "y_shaded = stats.chi2.pdf(x_shaded, df)\n",
    "plt.fill_between(x_shaded, y_shaded, color='gray', alpha=0.5)\n",
    "\n",
    "# Label the axes\n",
    "plt.xlabel('Chi-square Value')\n",
    "plt.ylabel('Probability Density')\n",
    "\n",
    "# Add a legend\n",
    "plt.legend()\n",
    "\n",
    "# Add a title\n",
    "plt.title('Chi-square Distribution with Shaded Area')\n",
    "\n",
    "# Show the plot\n",
    "plt.show()\n"
   ]
  },
  {
   "cell_type": "markdown",
   "id": "8f04b64a-5e34-4188-b73a-f81bea0341c1",
   "metadata": {},
   "source": [
    "Q7. A random sample of 1000 people was asked if they preferred Coke or Pepsi. Of the sample, 520\n",
    "preferred Coke. Calculate a 99% confidence interval for the true proportion of people in the population who\n",
    "prefer Coke."
   ]
  },
  {
   "cell_type": "code",
   "execution_count": 13,
   "id": "2b72f114-c078-41b1-a372-be9eb0169ae8",
   "metadata": {},
   "outputs": [
    {
     "name": "stdout",
     "output_type": "stream",
     "text": [
      "99% Confidence Interval for the Proportion of People Preferring Coke:\n",
      "Lower bound: 0.4793051576779699\n",
      "Upper bound: 0.5606948423220302\n"
     ]
    }
   ],
   "source": [
    "import scipy.stats as stats\n",
    "\n",
    "sample_size = 1000\n",
    "preferred_coke = 520\n",
    "\n",
    "# Calculate the proportion of people who preferred Coke in the sample\n",
    "sample_proportion = preferred_coke / sample_size\n",
    "\n",
    "# Calculate the standard error\n",
    "standard_error = (sample_proportion * (1 - sample_proportion) / sample_size) ** 0.5\n",
    "\n",
    "# Calculate the margin of error using the z-score for a 99% confidence level\n",
    "z_score = stats.norm.ppf(1 - (1 - 0.99) / 2)\n",
    "margin_of_error = z_score * standard_error\n",
    "\n",
    "# Calculate the confidence interval\n",
    "confidence_interval_lower = sample_proportion - margin_of_error\n",
    "confidence_interval_upper = sample_proportion + margin_of_error\n",
    "\n",
    "print(\"99% Confidence Interval for the Proportion of People Preferring Coke:\")\n",
    "print(\"Lower bound:\", confidence_interval_lower)\n",
    "print(\"Upper bound:\", confidence_interval_upper)\n"
   ]
  },
  {
   "cell_type": "markdown",
   "id": "558af612-e830-4b3c-bbcc-3d60f9d81684",
   "metadata": {},
   "source": [
    "Q8. A researcher hypothesizes that a coin is biased towards tails. They flip the coin 100 times and observe\n",
    "45 tails. Conduct a chi-square goodness of fit test to determine if the observed frequencies match the\n",
    "expected frequencies of a fair coin. Use a significance level of 0.05."
   ]
  },
  {
   "cell_type": "markdown",
   "id": "7a18784c-bfa6-4935-9df8-a6eb8e706973",
   "metadata": {},
   "source": [
    "Step 1: State the hypotheses\n",
    "\n",
    "The null hypothesis (H0) is that the coin is fair, meaning that the probability of getting heads is equal to the probability of getting tails. The alternative hypothesis (H1) is that the coin is biased towards tails, meaning that the probability of getting tails is greater than the probability of getting heads.\n",
    "\n",
    "Step 2: Set the significance level\n",
    "\n",
    "The significance level is 0.05, which means that we are willing to accept a 5% chance of making a Type I error, which is rejecting the null hypothesis when it is actually true.\n",
    "\n",
    "Step 3: Determine the expected frequencies\n",
    "\n",
    "If the coin is fair, then the expected frequency of getting heads is 100/2 = 50 and the expected frequency of getting tails is also 50.\n",
    "\n",
    "Step 4: Calculate the chi-square statistic\n",
    "\n",
    "The chi-square statistic is calculated as follows:\n",
    "\n",
    "χ2 = Σ(O - E)^2/E\n",
    "where O is the observed frequency and E is the expected frequency.\n",
    "\n",
    "In this case, the chi-square statistic is calculated as follows:\n",
    "\n",
    "χ2 = (45 - 50)^2/50 + (55 - 50)^2/50 = 1\n",
    "Step 5: Determine the critical value\n",
    "\n",
    "The critical value is the value of the chi-square statistic that we would need to observe in order to reject the null hypothesis. The critical value is determined by the significance level and the degrees of freedom. In this case, the degrees of freedom are 1 (because there are 2 categories: heads and tails). The critical value for a significance level of 0.05 and 1 degree of freedom is 3.841.\n",
    "\n",
    "Step 6: Make a decision\n",
    "\n",
    "The chi-square statistic (1) is less than the critical value (3.841), so we do not have enough evidence to reject the null hypothesis. Therefore, we cannot conclude that the coin is biased towards tails.\n",
    "\n",
    "Conclusion\n",
    "\n",
    "The results of the chi-square goodness of fit test do not provide enough evidence to conclude that the coin is biased towards tails. The coin may be fair, or it may be biased towards heads. More data would be needed to make a definitive conclusion."
   ]
  },
  {
   "cell_type": "markdown",
   "id": "5503b173-a4e4-4f34-bd08-33f4b0c2a32d",
   "metadata": {},
   "source": [
    "Q9. A study was conducted to determine if there is an association between smoking status (smoker or\n",
    "non-smoker) and lung cancer diagnosis (yes or no). The results are shown in the contingency table below.\n",
    "Conduct a chi-square test for independence to determine if there is a significant association between\n",
    "smoking status and lung cancer diagnosis.\n",
    "\n",
    "\n",
    "Lung Cancer:     Yes      No\n",
    "\n",
    "Smoker           60       140\n",
    "Non-smoker       30       170\n",
    "\n",
    "Use a significance level of 0.05."
   ]
  },
  {
   "cell_type": "markdown",
   "id": "2afabf48-dcd6-4e56-adf2-7bc3ed47223b",
   "metadata": {},
   "source": [
    "The null hypothesis for the chi-square test of independence is that there is no association between smoking status and lung cancer diagnosis. The alternative hypothesis is that there is an association between smoking status and lung cancer diagnosis.\n",
    "\n",
    "The degrees of freedom for the chi-square test is (2-1)(2-1) = 1. The critical value for a chi-square test with 1 degree of freedom and a significance level of 0.05 is 3.841.\n",
    "\n",
    "The expected frequencies for each cell in the contingency table can be calculated using the following formula:\n",
    "\n",
    "Expected Frequency = (Total Frequency in Row)(Total Frequency in Column) / Total Frequency\n",
    "The expected frequencies are shown in the following table:\n",
    "\n",
    "Lung Cancer:     Yes      No\n",
    "\n",
    "Smoker           45       155\n",
    "Non-smoker       25       145\n",
    "The chi-square test statistic is calculated as follows:\n",
    "\n",
    "Chi-Square = Σ(Observed Frequency - Expected Frequency)^2 / Expected Frequency\n",
    "The chi-square test statistic is 12.25.\n",
    "\n",
    "Since the chi-square test statistic is greater than the critical value, we reject the null hypothesis and conclude that there is a significant association between smoking status and lung cancer diagnosis.\n",
    "\n",
    "In other words, the data provide strong evidence to suggest that smoking status is a risk factor for lung cancer.\n",
    "\n",
    "Here is a summary of the steps involved in the chi-square test of independence:\n",
    "\n",
    "State the null and alternative hypotheses.\n",
    "Calculate the expected frequencies for each cell in the contingency table.\n",
    "Calculate the chi-square test statistic.\n",
    "Compare the chi-square test statistic to the critical value.\n",
    "Reject the null hypothesis if the chi-square test statistic is greater than the critical value.\n",
    "I hope this helps! Let me know if you have any other questions."
   ]
  },
  {
   "cell_type": "markdown",
   "id": "9b9128f3-07b8-4f31-a520-1d8726100e2f",
   "metadata": {},
   "source": [
    "Q10. A study was conducted to determine if the proportion of people who prefer milk chocolate, dark\n",
    "chocolate, or white chocolate is different in the U.S. versus the U.K. A random sample of 500 people from\n",
    "the U.S. and a random sample of 500 people from the U.K. were surveyed. The results are shown in the\n",
    "contingency table below. Conduct a chi-square test for independence to determine if there is a significant\n",
    "association between chocolate preference and country of origin.\n",
    "\n",
    "            Milk Chocolate       Dark Chocolate       White Chocolate\n",
    "\n",
    "U.S.(n=500)   200                 150                   150\n",
    "U.K.(n=500)   225                 175                   100          \n",
    "\n",
    "\n",
    "Use a significance level of 0.01."
   ]
  },
  {
   "cell_type": "markdown",
   "id": "3c4e68eb-6ad0-43a2-838f-5a1066af240b",
   "metadata": {},
   "source": [
    "To conduct a chi-square test for independence in this scenario, we will examine whether there is a significant association between chocolate preference and country of origin. We have a 2x3 contingency table with two categorical variables: chocolate preference (Milk, Dark, White) and country of origin (U.S., U.K.). The steps are similar to those explained before: setting up hypotheses, calculating expected frequencies, computing the chi-square statistic, determining degrees of freedom, finding the critical chi-square value, and making a conclusion.\n",
    "\n",
    "Let's break down the process:\n",
    "\n",
    "1.Setting up Hypotheses:\n",
    "\n",
    "Null Hypothesis (H0): There is no association between chocolate preference and country of origin.\n",
    "Alternative Hypothesis (H1): There is an association between chocolate preference and country of origin.\n",
    "\n",
    "2.Calculating Expected Frequencies:\n",
    "Calculate the expected frequency for each cell using the formula: \n",
    "\n",
    "Eij = row total i × column total j/ total observations\n",
    "\n",
    "3.Calculating the Chi-Square Statistic:\n",
    "Calculate the chi-square statistic using the formula:\n",
    "\n",
    "χ2 = ∑ (Oij −E )^2/Eij\n",
    "\n",
    "\n",
    "4.Degrees of Freedom (df):\n",
    "The degrees of freedom is calculated as \n",
    "\n",
    "df=(number of rows−1)×(number of columns−1).\n",
    "\n",
    "5.Finding Critical Chi-Square Value:\n",
    "With a significance level of 0.01 and the calculated degrees of freedom, find the critical chi-square value from a chi-square distribution table or calculator.\n",
    "\n",
    "6.Comparing Statistic and Critical Value:\n",
    "Compare the calculated chi-square statistic with the critical chi-square value. If the calculated statistic is greater than the critical value, reject the null hypothesis in favor of the alternative hypothesis.\n",
    "\n",
    "Perform the calculations and comparisons to determine whether there is a significant association between chocolate preference and country of origin."
   ]
  },
  {
   "cell_type": "markdown",
   "id": "593237bd-0b3d-4272-9822-be098242c07f",
   "metadata": {},
   "source": [
    "Q11. A random sample of 30 people was selected from a population with an unknown mean and standard\n",
    "deviation. The sample mean was found to be 72 and the sample standard deviation was found to be 10.\n",
    "Conduct a hypothesis test to determine if the population mean is significantly different from 70. Use a\n",
    "significance level of 0.05."
   ]
  },
  {
   "cell_type": "markdown",
   "id": "a7bd2a9c-e18a-46ae-9f20-e9b73fe29fd6",
   "metadata": {},
   "source": [
    "Here are the steps involved in conducting a hypothesis test for the population mean:\n",
    "\n",
    "1.State the null hypothesis and the alternative hypothesis.\n",
    "2.Calculate the test statistic.\n",
    "3.Determine the p-value.\n",
    "4.Make a decision about the null hypothesis.\n",
    "\n",
    "State the null hypothesis and the alternative hypothesis.\n",
    "\n",
    "The null hypothesis is that the population mean is equal to 70. The alternative hypothesis is that the population mean is not equal to 70.\n",
    "\n",
    "Calculate the test statistic.\n",
    "\n",
    "The test statistic for a one-sample t-test is calculated as follows:\n",
    "\n",
    "t = (sample mean - hypothesized mean) / (standard deviation / sqrt(sample size))\n",
    "In this case, the test statistic is calculated as follows:\n",
    "\n",
    "t = (72 - 70) / (10 / sqrt(30)) = 0.2\n",
    "Determine the p-value.\n",
    "\n",
    "The p-value is the probability of obtaining a test statistic at least as extreme as the one that was actually observed, if the null hypothesis is true. The p-value can be calculated using a statistical calculator or software.\n",
    "\n",
    "In this case, the p-value is 0.579.\n",
    "\n",
    "Make a decision about the null hypothesis.\n",
    "\n",
    "The decision rule is to reject the null hypothesis if the p-value is less than or equal to the significance level. In this case, the p-value is greater than the significance level of 0.05, so we fail to reject the null hypothesis.\n",
    "\n",
    "Interpretation\n",
    "\n",
    "We cannot conclude that the population mean is significantly different from 70. The sample mean is 2 points above 70, but this is not a statistically significant difference."
   ]
  },
  {
   "cell_type": "code",
   "execution_count": null,
   "id": "b83b1235-719f-4ba4-bacd-b8618cc33a6c",
   "metadata": {},
   "outputs": [],
   "source": []
  }
 ],
 "metadata": {
  "kernelspec": {
   "display_name": "Python 3 (ipykernel)",
   "language": "python",
   "name": "python3"
  },
  "language_info": {
   "codemirror_mode": {
    "name": "ipython",
    "version": 3
   },
   "file_extension": ".py",
   "mimetype": "text/x-python",
   "name": "python",
   "nbconvert_exporter": "python",
   "pygments_lexer": "ipython3",
   "version": "3.10.8"
  }
 },
 "nbformat": 4,
 "nbformat_minor": 5
}
